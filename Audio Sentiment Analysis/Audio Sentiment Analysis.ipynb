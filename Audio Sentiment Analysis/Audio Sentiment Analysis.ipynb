{
 "cells": [
  {
   "cell_type": "code",
   "execution_count": 1,
   "metadata": {
    "collapsed": true
   },
   "outputs": [],
   "source": [
    "import speech_recognition as sr"
   ]
  },
  {
   "cell_type": "code",
   "execution_count": 2,
   "metadata": {
    "collapsed": true
   },
   "outputs": [],
   "source": [
    "r = sr.Recognizer()"
   ]
  },
  {
   "cell_type": "code",
   "execution_count": 3,
   "metadata": {},
   "outputs": [
    {
     "name": "stdout",
     "output_type": "stream",
     "text": [
      "You said : the snail smell like old beer drinkers\n"
     ]
    }
   ],
   "source": [
    "kalimat = sr.AudioFile('jackhammer.wav')\n",
    "with kalimat as source:\n",
    "    audio = r.listen(source)\n",
    "\n",
    "#with sr.Microphone() as source:\n",
    "#    print('KATAKAN SESUATU !')\n",
    "#    audio = r.listen(source, duration = 4)\n",
    "#    print('SELESAI')\n",
    "    \n",
    "try:\n",
    "    teks = r.recognize_google(audio)\n",
    "    print(\"You said : {}\".format(teks))\n",
    "except:\n",
    "    pass"
   ]
  },
  {
   "cell_type": "code",
   "execution_count": 4,
   "metadata": {},
   "outputs": [
    {
     "name": "stdout",
     "output_type": "stream",
     "text": [
      "[SentiSynset('snail.n.01'), SentiSynset('escargot.n.01')]\n",
      "skor positif :  0.0\n",
      "skor negatif :  0.0\n",
      "Hasil Skor :  0.0\n",
      "skor positif :  0.0\n",
      "skor negatif :  0.0\n",
      "Hasil Skor :  0.0\n",
      "[SentiSynset('smell.n.01'), SentiSynset('olfactory_property.n.01'), SentiSynset('spirit.n.02'), SentiSynset('smell.n.04'), SentiSynset('smell.n.05')]\n",
      "skor positif :  0.0\n",
      "skor negatif :  0.0\n",
      "Hasil Skor :  0.0\n",
      "skor positif :  0.0\n",
      "skor negatif :  0.0\n",
      "Hasil Skor :  0.0\n",
      "skor positif :  0.0\n",
      "skor negatif :  0.0\n",
      "Hasil Skor :  0.0\n",
      "skor positif :  0.0\n",
      "skor negatif :  0.0\n",
      "Hasil Skor :  0.0\n",
      "skor positif :  0.0\n",
      "skor negatif :  0.0\n",
      "Hasil Skor :  0.0\n",
      "[SentiSynset('old.a.01'), SentiSynset('old.a.02'), SentiSynset('old.s.03'), SentiSynset('old.s.04'), SentiSynset('erstwhile.s.01'), SentiSynset('honest-to-god.s.01'), SentiSynset('old.s.07'), SentiSynset('previous.s.01')]\n",
      "skor positif :  0.375\n",
      "skor negatif :  0.0\n",
      "Hasil Skor :  0.375\n",
      "skor positif :  0.0\n",
      "skor negatif :  0.375\n",
      "Hasil Skor :  0.0\n",
      "skor positif :  0.375\n",
      "skor negatif :  0.25\n",
      "Hasil Skor :  0.125\n",
      "skor positif :  0.125\n",
      "skor negatif :  0.0\n",
      "Hasil Skor :  0.25\n",
      "skor positif :  0.0\n",
      "skor negatif :  0.0\n",
      "Hasil Skor :  0.25\n",
      "skor positif :  0.5\n",
      "skor negatif :  0.0\n",
      "Hasil Skor :  0.75\n",
      "skor positif :  0.0\n",
      "skor negatif :  0.0\n",
      "Hasil Skor :  0.75\n",
      "skor positif :  0.0\n",
      "skor negatif :  0.0\n",
      "Hasil Skor :  0.75\n",
      "[SentiSynset('beer.n.01')]\n",
      "skor positif :  0.0\n",
      "skor negatif :  0.0\n",
      "Hasil Skor :  0.0\n",
      "[SentiSynset('drinker.n.01'), SentiSynset('drinker.n.02')]\n",
      "skor positif :  0.0\n",
      "skor negatif :  0.0\n",
      "Hasil Skor :  0.0\n",
      "skor positif :  0.0\n",
      "skor negatif :  0.0\n",
      "Hasil Skor :  0.0\n"
     ]
    }
   ],
   "source": [
    "import nltk\n",
    "from nltk.corpus import sentiwordnet as swn\n",
    "teks = teks.lower()\n",
    "kalimat = nltk.sent_tokenize(teks)\n",
    "kata = [nltk.word_tokenize(sent) for sent in kalimat]\n",
    "postaggedlist=[]\n",
    "for stoken in kata:        \n",
    "     postaggedlist.append(nltk.pos_tag(stoken))\n",
    "wnl = nltk.WordNetLemmatizer()\n",
    "score_list=[]\n",
    "for idx,taggedsent in enumerate(postaggedlist):\n",
    "    score_list.append([])\n",
    "    for idx2,t in enumerate(taggedsent):\n",
    "        newtag=''\n",
    "        lemmatized=wnl.lemmatize(t[0])\n",
    "        if t[1].startswith('NN'):  #Noun\n",
    "            newtag='n'\n",
    "        elif t[1].startswith('JJ'):  #Adjective\n",
    "            newtag='a'\n",
    "        elif t[1].startswith('V'):   #Verb\n",
    "            newtag='v'\n",
    "        elif t[1].startswith('R'):    #Adverb\n",
    "            newtag='r'\n",
    "        else:\n",
    "            newtag=''       \n",
    "        if(newtag!=''):    \n",
    "            synsets = list(swn.senti_synsets(lemmatized, newtag))\n",
    "            print(synsets)\n",
    "            score=0\n",
    "            if(len(synsets)>0):\n",
    "                for syn in synsets:\n",
    "                    print(\"skor positif : \",syn.pos_score())\n",
    "                    print(\"skor negatif : \",syn.neg_score())\n",
    "                    score+=syn.pos_score()-syn.neg_score()\n",
    "                    print(\"Hasil Skor : \",score)\n",
    "                score_list[idx].append(score/len(synsets)) "
   ]
  },
  {
   "cell_type": "code",
   "execution_count": 5,
   "metadata": {},
   "outputs": [
    {
     "name": "stdout",
     "output_type": "stream",
     "text": [
      "[[0.0, 0.0, 0.09375, 0.0, 0.0]]\n"
     ]
    }
   ],
   "source": [
    "print(score_list)"
   ]
  },
  {
   "cell_type": "code",
   "execution_count": 6,
   "metadata": {},
   "outputs": [
    {
     "name": "stdout",
     "output_type": "stream",
     "text": [
      "Hasil Sentimen Untuk Kalimat: the snail smell like old beer drinkers\n"
     ]
    }
   ],
   "source": [
    "sentence_sentiment=[]\n",
    "\n",
    "for score_sent in score_list:\n",
    "    sentence_sentiment.append(sum([word_score for word_score in score_sent])/len(score_sent))\n",
    "print(\"Hasil Sentimen Untuk Kalimat: \"+teks)"
   ]
  },
  {
   "cell_type": "code",
   "execution_count": 7,
   "metadata": {},
   "outputs": [
    {
     "name": "stdout",
     "output_type": "stream",
     "text": [
      "Nilai Akhir SentiWordNet :  [0.01875]\n",
      "Kelas Positif\n"
     ]
    }
   ],
   "source": [
    "print(\"Nilai Akhir SentiWordNet : \",sentence_sentiment)\n",
    "for a in range(0, len(sentence_sentiment)):\n",
    "    if sentence_sentiment[a] > 0:\n",
    "        print(\"Kelas Positif\")\n",
    "    else:\n",
    "        print(\"Kelas Negatif\")"
   ]
  },
  {
   "cell_type": "code",
   "execution_count": null,
   "metadata": {
    "collapsed": true
   },
   "outputs": [],
   "source": []
  }
 ],
 "metadata": {
  "kernelspec": {
   "display_name": "Python 3",
   "language": "python",
   "name": "python3"
  },
  "language_info": {
   "codemirror_mode": {
    "name": "ipython",
    "version": 3
   },
   "file_extension": ".py",
   "mimetype": "text/x-python",
   "name": "python",
   "nbconvert_exporter": "python",
   "pygments_lexer": "ipython3",
   "version": "3.6.8"
  }
 },
 "nbformat": 4,
 "nbformat_minor": 2
}
